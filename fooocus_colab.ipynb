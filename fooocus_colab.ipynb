!pip instal pygit==1.12.2
%cd /content
!git clone https:/github.com/lllyasviel/Fooocus.git

cd /content/Fooocus/models/upscale models/
!wget -0 Fooocus_upscaler_s409985e5.bin https:/hugginface.co/lllyasviel/misc/reschearch  %cd /content/Fooocus 
!python entry_with_update.py --share
